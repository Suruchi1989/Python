{
  "nbformat": 4,
  "nbformat_minor": 0,
  "metadata": {
    "colab": {
      "name": "LinearRegression.ipynb",
      "provenance": [],
      "collapsed_sections": []
    },
    "kernelspec": {
      "name": "python3",
      "display_name": "Python 3"
    },
    "language_info": {
      "name": "python"
    }
  },
  "cells": [
    {
      "cell_type": "code",
      "metadata": {
        "id": "IbjaLrOHDvbv"
      },
      "source": [
        "import os\n",
        "import numpy as np\n",
        "import pandas as pd\n",
        "import matplotlib.pyplot as plt\n",
        "import seaborn as sns\n",
        "%matplotlib inline"
      ],
      "execution_count": 12,
      "outputs": []
    },
    {
      "cell_type": "code",
      "metadata": {
        "id": "P1krvu90Q7yq"
      },
      "source": [
        "df_USAhousing.describe()"
      ],
      "execution_count": null,
      "outputs": []
    },
    {
      "cell_type": "code",
      "metadata": {
        "id": "x0EA3DwcM0bd"
      },
      "source": [
        "X = df_USAhousing[['Avg. Area Income','Avg. Area House Age','Avg. Area Number of Rooms','Area Population']]\n",
        "y = df_USAhousing['Price']"
      ],
      "execution_count": 14,
      "outputs": []
    },
    {
      "cell_type": "code",
      "metadata": {
        "id": "hdwyfbyHM-_-"
      },
      "source": [
        "df_USAhousing = pd.read_csv('/content/sample_data/USA_Housing.csv')\n",
        "df_USAhousing.head()"
      ],
      "execution_count": null,
      "outputs": []
    },
    {
      "cell_type": "code",
      "metadata": {
        "id": "nc_ourudStrd"
      },
      "source": [
        "sns.heatmap(df_USAhousing.corr())"
      ],
      "execution_count": null,
      "outputs": []
    },
    {
      "cell_type": "code",
      "metadata": {
        "id": "zpZa7ssCTHPF"
      },
      "source": [
        "sns.pairplot(df_USAhousing)"
      ],
      "execution_count": null,
      "outputs": []
    },
    {
      "cell_type": "code",
      "metadata": {
        "id": "CpRMsgZzSuNe"
      },
      "source": [
        "sns.distplot(df_USAhousing['Price'])"
      ],
      "execution_count": null,
      "outputs": []
    },
    {
      "cell_type": "code",
      "metadata": {
        "id": "BCdwteABOqB6"
      },
      "source": [
        "from sklearn.model_selection import train_test_split\n",
        "X_train,X_test,y_train,y_test = train_test_split(X,y,test_size = 0.42)"
      ],
      "execution_count": 15,
      "outputs": []
    },
    {
      "cell_type": "code",
      "metadata": {
        "id": "hU41QL8mPMtb"
      },
      "source": [
        "from sklearn.linear_model import LinearRegression\n",
        "lm = LinearRegression()"
      ],
      "execution_count": 16,
      "outputs": []
    },
    {
      "cell_type": "code",
      "metadata": {
        "colab": {
          "base_uri": "https://localhost:8080/"
        },
        "id": "9xalr8EnPXAT",
        "outputId": "f0cd10b0-0387-4a5e-9920-7599a135abbc"
      },
      "source": [
        "lm.fit(X_train,y_train,sample_weight=0.3)"
      ],
      "execution_count": 18,
      "outputs": [
        {
          "output_type": "execute_result",
          "data": {
            "text/plain": [
              "LinearRegression(copy_X=True, fit_intercept=True, n_jobs=None, normalize=False)"
            ]
          },
          "metadata": {
            "tags": []
          },
          "execution_count": 18
        }
      ]
    },
    {
      "cell_type": "code",
      "metadata": {
        "id": "DbwIV45ePfn1"
      },
      "source": [
        "print(lm.intercept_)\n",
        "coeff_df = pd.DataFrame(lm.coef_,X.columns,columns = ['Coefficient'])\n",
        "coeff_df"
      ],
      "execution_count": null,
      "outputs": []
    },
    {
      "cell_type": "code",
      "metadata": {
        "id": "h9-Ob2w8RVEP"
      },
      "source": [
        "predictions = lm.predict(X_test)"
      ],
      "execution_count": 24,
      "outputs": []
    },
    {
      "cell_type": "code",
      "metadata": {
        "id": "jYHVkaF9Ri9z"
      },
      "source": [
        "plt.scatter(y_test,predictions)"
      ],
      "execution_count": null,
      "outputs": []
    },
    {
      "cell_type": "code",
      "metadata": {
        "id": "VhbUULMzRpNt"
      },
      "source": [
        "sns.distplot((y_test,predictions),bins=50);"
      ],
      "execution_count": null,
      "outputs": []
    },
    {
      "cell_type": "code",
      "metadata": {
        "id": "4t2iPl6WRxm2"
      },
      "source": [
        "from sklearn import metrics"
      ],
      "execution_count": 27,
      "outputs": []
    },
    {
      "cell_type": "code",
      "metadata": {
        "id": "sYVZHpCGR-4G"
      },
      "source": [
        "print('MAE:',metrics.mean_absolute_error(y_test,predictions))\n",
        "print('MSE:',metrics.mean_squared_error(y_test,predictions))\n",
        "print('RMSE:',np.sqrt(metrics.mean_squared_error(y_test,predictions)))"
      ],
      "execution_count": null,
      "outputs": []
    }
  ]
}